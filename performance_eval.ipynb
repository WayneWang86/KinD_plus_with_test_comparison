{
 "cells": [
  {
   "cell_type": "code",
   "execution_count": null,
   "id": "c51e3119-1752-4e76-89eb-0a869b294b20",
   "metadata": {},
   "outputs": [],
   "source": [
    "import cv2\n",
    "import numpy as np\n",
    "import pandas as pd\n",
    "from PIL import Image\n",
    "from skimage import data, color, io\n",
    "import os\n",
    "import matplotlib.pyplot as plt"
   ]
  },
  {
   "cell_type": "code",
   "execution_count": null,
   "id": "909c359a-4efd-476c-bfbe-fe5b9bbe5aec",
   "metadata": {},
   "outputs": [],
   "source": [
    "# !pip install opencv-python\n",
    "\n",
    "print(os.path.abspath('main.py'))"
   ]
  },
  {
   "cell_type": "code",
   "execution_count": null,
   "id": "764f93d3-ed81-43d9-9560-d66239d88d1e",
   "metadata": {
    "tags": []
   },
   "outputs": [],
   "source": [
    "for img in os.listdir('LOLdataset/our485/low'):\n",
    "    if img.endswith(\".png\"):\n",
    "        img1_path = 'LOLdataset/our485/low/' + img\n",
    "        img2_path = 'LOLdataset/our485/high/' + img\n",
    "        result_path = 'test_results/our485/LOLdataset/' + img.replace('.png', '_kindle_v2.png')\n",
    "        \n",
    "        img1 = cv2.imread (img1_path)\n",
    "        img2 = cv2.imread (img2_path)\n",
    "        img3 = cv2.imread (result_path)\n",
    "        \n",
    "        plt.figure(figsize=(50,20))\n",
    "        plt.subplot(1, 3, 1)\n",
    "        plt.imshow(img1)\n",
    "        plt.title(\"Low Resolution\", fontsize=50)\n",
    "\n",
    "        plt.subplot(1, 3, 2)\n",
    "        plt.imshow(img2)\n",
    "        plt.title(\"high solution\", fontsize=50)\n",
    "\n",
    "        plt.subplot(1, 3, 3)\n",
    "        plt.imshow(img3)\n",
    "        plt.title(\"KinD++ enhanced\", fontsize=50) \n",
    "        \n",
    "        compare_img_path = 'compare/our485-compare/' + img\n",
    "\n",
    "        plt.savefig(compare_img_path)\n",
    "#         print(compare_img_path)"
   ]
  },
  {
   "cell_type": "code",
   "execution_count": null,
   "id": "6f742bce-3482-4311-bad9-beb6aa43a6ad",
   "metadata": {},
   "outputs": [],
   "source": [
    "img2 = cv2.imread ('LOLdataset/eval15/high/1.png')\n",
    "img1 = cv2.imread ('LOLdataset/eval15/low/1.png')\n",
    "img3 = cv2.imread ('test_results/eval15/LOLdataset/1_kindle_v2.png')"
   ]
  },
  {
   "cell_type": "code",
   "execution_count": null,
   "id": "cc560199-03cf-418e-b8f7-83ceb4ac6b30",
   "metadata": {},
   "outputs": [],
   "source": [
    "image = np.concatenate([img1, img2, img3], axis = 1)\n",
    "# image = np.concatenate([image, img3], axis = 1) "
   ]
  },
  {
   "cell_type": "code",
   "execution_count": null,
   "id": "b7a72f27-8806-4e43-8b40-16d47abc3865",
   "metadata": {
    "tags": []
   },
   "outputs": [],
   "source": [
    "img3"
   ]
  },
  {
   "cell_type": "code",
   "execution_count": null,
   "id": "9bf25f60-8e28-4d8c-8cfc-d568350a95cb",
   "metadata": {},
   "outputs": [],
   "source": [
    "io.imshow(image)"
   ]
  },
  {
   "cell_type": "code",
   "execution_count": null,
   "id": "c0185827-fe74-4b84-9702-aa13d5a93a3b",
   "metadata": {},
   "outputs": [],
   "source": [
    "os.listdir('LOLdataset/dark')"
   ]
  },
  {
   "cell_type": "code",
   "execution_count": null,
   "id": "307eda4d-b0a4-4f09-8a94-63b53dd9b030",
   "metadata": {},
   "outputs": [],
   "source": [
    "plt.figure(figsize=(50,20))\n",
    "plt.subplot(1, 3, 1)\n",
    "plt.imshow(img1)\n",
    "plt.title(\"Low Resolution\", fontsize=50)\n",
    "\n",
    "plt.subplot(1, 3, 2)\n",
    "plt.imshow(img2)\n",
    "plt.title(\"high solution\", fontsize=50)\n",
    "\n",
    "plt.subplot(1, 3, 3)\n",
    "plt.imshow(img3)\n",
    "plt.title(\"KinD++ enhanced\", fontsize=50) \n",
    "\n",
    "plt.savefig('compare/test.jpg')"
   ]
  },
  {
   "cell_type": "code",
   "execution_count": null,
   "id": "0d5ba9cb-a38f-4243-9d8b-6984dfd7bf18",
   "metadata": {
    "tags": []
   },
   "outputs": [],
   "source": [
    "for img in os.listdir('Test/MEF'):\n",
    "    if not img.startswith(\".\"):\n",
    "        original_path = 'Test/MEF/' + img\n",
    "        result_path = 'test_results/MEF/' + img.replace(img[-4:], '_KinD_plus.png')\n",
    "        \n",
    "#         print(original_path)\n",
    "#         print(result_path)\n",
    "        original = cv2.imread (original_path)\n",
    "        result = cv2.imread (result_path)\n",
    "                \n",
    "        plt.figure(figsize=(50,20))\n",
    "        plt.subplot(1, 2, 1)\n",
    "        plt.imshow(original)\n",
    "        plt.title(\"Low Light\", fontsize=50)\n",
    "        \n",
    "        plt.subplot(1, 2, 2)\n",
    "        plt.imshow(result)\n",
    "        plt.title(\"KinD++ enhanced\", fontsize=50) \n",
    "        \n",
    "        compare_img_path = 'compare/MEF-compare/' + img\n",
    "\n",
    "        plt.savefig(compare_img_path)\n",
    "#         print(compare_img_path)"
   ]
  },
  {
   "cell_type": "code",
   "execution_count": null,
   "id": "2cc2e460-8fca-418c-b24f-2aee63fb5627",
   "metadata": {
    "tags": []
   },
   "outputs": [],
   "source": [
    "for img in os.listdir('test_images'):\n",
    "    if not img.startswith(\".\"):\n",
    "        original_path = 'test_images/' + img\n",
    "        result_path = 'test_results/test/' + img.replace(img[-4:], '_KinD_plus.png')\n",
    "        \n",
    "        print(original_path)\n",
    "        print(result_path)\n",
    "        original = cv2.imread (original_path)\n",
    "        result = cv2.imread (result_path)\n",
    "        \n",
    "        original_b, original_g, original_r = cv2.split(original)\n",
    "        original_rgb = cv2.merge([original_r, original_g, original_b])\n",
    "        \n",
    "        result_b, result_g, result_r = cv2.split(result)\n",
    "        result_rgb = cv2.merge([result_r, result_g, result_b])\n",
    "                \n",
    "        plt.figure(figsize=(50,20))\n",
    "        plt.subplot(1, 2, 1)\n",
    "        plt.imshow(original_rgb)\n",
    "        plt.title(\"Low Light\", fontsize=50)\n",
    "        \n",
    "        plt.subplot(1, 2, 2)\n",
    "        plt.imshow(result_rgb)\n",
    "        plt.title(\"KinD++ enhanced\", fontsize=50) \n",
    "        \n",
    "        compare_img_path = 'compare/test/' + img\n",
    "\n",
    "        plt.savefig(compare_img_path)\n",
    "        print(compare_img_path)"
   ]
  },
  {
   "cell_type": "code",
   "execution_count": null,
   "id": "9d2dc790-897a-4897-9cba-8cea05e6a84b",
   "metadata": {
    "jupyter": {
     "source_hidden": true
    },
    "tags": []
   },
   "outputs": [],
   "source": [
    "for img in os.listdir('test_images'):\n",
    "    if not img.startswith(\".\"):\n",
    "        original_path = 'test_images/' + img\n",
    "        result_path = 'test_results/' + img.replace(img[-4:], '_KinD_plus.png')\n",
    "        \n",
    "        original = cv2.imread (original_path)\n",
    "        result = cv2.imread (result_path)\n",
    "        \n",
    "        plt.figure(figsize=(50,20))\n",
    "        \n",
    "        plt.subplot(1, 2, 1)\n",
    "        plt.imshow(original)\n",
    "        plt.title(\"Low Light\", fontsize=50)\n",
    "        \n",
    "        plt.subplot(1, 2, 2)\n",
    "        plt.imshow(result)\n",
    "        plt.title(\"KinD++ enhanced\", fontsize=50) \n",
    "        \n",
    "        compare_img_path = 'compare/test/' + img\n",
    "\n",
    "        plt.savefig(compare_img_path)\n",
    "#         print(compare_img_path)"
   ]
  },
  {
   "cell_type": "code",
   "execution_count": null,
   "id": "ce54e70f-3012-479e-9fde-9a99a3fbbe35",
   "metadata": {},
   "outputs": [],
   "source": [
    "for img in os.listdir('Test/NPE/'):\n",
    "    if not (img.startswith(\".\")):\n",
    "        img_path = 'Test/NPE/' + img\n",
    "        img_show = cv2.imread(img_path)\n",
    "        io.imshow(img_show)"
   ]
  },
  {
   "cell_type": "code",
   "execution_count": null,
   "id": "d61fac81-d5d6-4394-9570-28c70a900353",
   "metadata": {
    "jupyter": {
     "source_hidden": true
    },
    "tags": []
   },
   "outputs": [],
   "source": [
    "for path in os.listdir('compare/DF-compare'):\n",
    "    if not path.startswith(\".\"):        \n",
    "        img = cv2.imread(\"compare/DF-compare/\" + path)\n",
    "        \n",
    "        b, g, r = cv2.split(img)\n",
    "        img_rgb = cv2.merge([r, g, b])\n",
    "                \n",
    "        plt.figure(figsize=(50,20))\n",
    "# #         plt.subplot(5,1,1)\n",
    "        plt.imshow(img_rgb)\n",
    "        \n",
    "#         plt.figure(figsize=(50,20))\n",
    "#         plt.subplot(5,1,2)\n",
    "#         plt.imshow(img)\n",
    "        \n",
    "#         plt.figure(figsize=(50,20))\n",
    "#         plt.subplot(5,1,3)\n",
    "#         plt.imshow(img)\n",
    "        \n",
    "#         plt.figure(figsize=(50,20))\n",
    "#         plt.subplot(5,1,4)\n",
    "#         plt.imshow(img)\n",
    "#         print(result_path)\n",
    "#         original = cv2.imread (original_path)\n",
    "#         result = cv2.imread (result_path)\n",
    "        \n",
    "#         original_b, original_g, original_r = cv2.split(original)\n",
    "#         original_rgb = cv2.merge([original_r, original_g, original_b])\n",
    "        \n",
    "#         result_b, result_g, result_r = cv2.split(result)\n",
    "#         result_rgb = cv2.merge([result_r, result_g, result_b])\n",
    "                \n",
    "#         plt.figure(figsize=(50,20))\n",
    "#         plt.subplot(1, 2, 1)\n",
    "#         plt.imshow(original_rgb)\n",
    "#         plt.title(\"Low Light\", fontsize=50)\n",
    "        \n",
    "#         plt.subplot(1, 2, 2)\n",
    "#         plt.imshow(result_rgb)\n",
    "#         plt.title(\"KinD++ enhanced\", fontsize=50) \n",
    "        \n",
    "#         compare_img_path = 'compare/NPE-compare/' + img\n",
    "\n",
    "#         plt.savefig(compare_img_path)\n",
    "#         print(compare_img_path)"
   ]
  },
  {
   "cell_type": "code",
   "execution_count": null,
   "id": "aa0cd39a-19a7-44ec-814b-6bdcb9fcf848",
   "metadata": {},
   "outputs": [],
   "source": []
  }
 ],
 "metadata": {
  "kernelspec": {
   "display_name": "Python 3",
   "language": "python",
   "name": "python3"
  },
  "language_info": {
   "codemirror_mode": {
    "name": "ipython",
    "version": 3
   },
   "file_extension": ".py",
   "mimetype": "text/x-python",
   "name": "python",
   "nbconvert_exporter": "python",
   "pygments_lexer": "ipython3",
   "version": "3.8.8"
  }
 },
 "nbformat": 4,
 "nbformat_minor": 5
}
